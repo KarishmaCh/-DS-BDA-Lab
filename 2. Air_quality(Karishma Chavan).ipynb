{
 "cells": [
  {
   "cell_type": "code",
   "execution_count": 1,
   "id": "1d1a0210",
   "metadata": {},
   "outputs": [],
   "source": [
    "import pandas as pd"
   ]
  },
  {
   "cell_type": "code",
   "execution_count": 2,
   "id": "ddc86397",
   "metadata": {},
   "outputs": [
    {
     "data": {
      "text/html": [
       "<div>\n",
       "<style scoped>\n",
       "    .dataframe tbody tr th:only-of-type {\n",
       "        vertical-align: middle;\n",
       "    }\n",
       "\n",
       "    .dataframe tbody tr th {\n",
       "        vertical-align: top;\n",
       "    }\n",
       "\n",
       "    .dataframe thead th {\n",
       "        text-align: right;\n",
       "    }\n",
       "</style>\n",
       "<table border=\"1\" class=\"dataframe\">\n",
       "  <thead>\n",
       "    <tr style=\"text-align: right;\">\n",
       "      <th></th>\n",
       "      <th>year</th>\n",
       "      <th>month</th>\n",
       "      <th>day</th>\n",
       "      <th>hour</th>\n",
       "      <th>pm2.5</th>\n",
       "      <th>DEWP</th>\n",
       "      <th>TEMP</th>\n",
       "      <th>PRES</th>\n",
       "      <th>cbwd</th>\n",
       "      <th>Iws</th>\n",
       "      <th>Is</th>\n",
       "      <th>Ir</th>\n",
       "    </tr>\n",
       "    <tr>\n",
       "      <th>No</th>\n",
       "      <th></th>\n",
       "      <th></th>\n",
       "      <th></th>\n",
       "      <th></th>\n",
       "      <th></th>\n",
       "      <th></th>\n",
       "      <th></th>\n",
       "      <th></th>\n",
       "      <th></th>\n",
       "      <th></th>\n",
       "      <th></th>\n",
       "      <th></th>\n",
       "    </tr>\n",
       "  </thead>\n",
       "  <tbody>\n",
       "    <tr>\n",
       "      <th>1</th>\n",
       "      <td>2010</td>\n",
       "      <td>1</td>\n",
       "      <td>1</td>\n",
       "      <td>0</td>\n",
       "      <td>NaN</td>\n",
       "      <td>-21</td>\n",
       "      <td>-11.0</td>\n",
       "      <td>1021.0</td>\n",
       "      <td>NW</td>\n",
       "      <td>1.79</td>\n",
       "      <td>0</td>\n",
       "      <td>0</td>\n",
       "    </tr>\n",
       "    <tr>\n",
       "      <th>2</th>\n",
       "      <td>2010</td>\n",
       "      <td>1</td>\n",
       "      <td>1</td>\n",
       "      <td>1</td>\n",
       "      <td>NaN</td>\n",
       "      <td>-21</td>\n",
       "      <td>-12.0</td>\n",
       "      <td>1020.0</td>\n",
       "      <td>NW</td>\n",
       "      <td>4.92</td>\n",
       "      <td>0</td>\n",
       "      <td>0</td>\n",
       "    </tr>\n",
       "    <tr>\n",
       "      <th>3</th>\n",
       "      <td>2010</td>\n",
       "      <td>1</td>\n",
       "      <td>1</td>\n",
       "      <td>2</td>\n",
       "      <td>NaN</td>\n",
       "      <td>-21</td>\n",
       "      <td>-11.0</td>\n",
       "      <td>1019.0</td>\n",
       "      <td>NW</td>\n",
       "      <td>6.71</td>\n",
       "      <td>0</td>\n",
       "      <td>0</td>\n",
       "    </tr>\n",
       "    <tr>\n",
       "      <th>4</th>\n",
       "      <td>2010</td>\n",
       "      <td>1</td>\n",
       "      <td>1</td>\n",
       "      <td>3</td>\n",
       "      <td>NaN</td>\n",
       "      <td>-21</td>\n",
       "      <td>-14.0</td>\n",
       "      <td>1019.0</td>\n",
       "      <td>NW</td>\n",
       "      <td>9.84</td>\n",
       "      <td>0</td>\n",
       "      <td>0</td>\n",
       "    </tr>\n",
       "    <tr>\n",
       "      <th>5</th>\n",
       "      <td>2010</td>\n",
       "      <td>1</td>\n",
       "      <td>1</td>\n",
       "      <td>4</td>\n",
       "      <td>NaN</td>\n",
       "      <td>-20</td>\n",
       "      <td>-12.0</td>\n",
       "      <td>1018.0</td>\n",
       "      <td>NW</td>\n",
       "      <td>12.97</td>\n",
       "      <td>0</td>\n",
       "      <td>0</td>\n",
       "    </tr>\n",
       "  </tbody>\n",
       "</table>\n",
       "</div>"
      ],
      "text/plain": [
       "    year  month  day  hour  pm2.5  DEWP  TEMP    PRES cbwd    Iws  Is  Ir\n",
       "No                                                                       \n",
       "1   2010      1    1     0    NaN   -21 -11.0  1021.0   NW   1.79   0   0\n",
       "2   2010      1    1     1    NaN   -21 -12.0  1020.0   NW   4.92   0   0\n",
       "3   2010      1    1     2    NaN   -21 -11.0  1019.0   NW   6.71   0   0\n",
       "4   2010      1    1     3    NaN   -21 -14.0  1019.0   NW   9.84   0   0\n",
       "5   2010      1    1     4    NaN   -20 -12.0  1018.0   NW  12.97   0   0"
      ]
     },
     "execution_count": 2,
     "metadata": {},
     "output_type": "execute_result"
    }
   ],
   "source": [
    "data_df = pd.DataFrame(pd.read_csv('PRSA_data_2010.1.1-2014.12.31.csv', index_col = 0))\n",
    "data_df.head()"
   ]
  },
  {
   "cell_type": "code",
   "execution_count": 3,
   "id": "c4b0a4f0",
   "metadata": {},
   "outputs": [],
   "source": [
    "data_df['datetime'] = pd.to_datetime(data_df[['year', 'month','day', 'hour']])\n",
    "data_df = data_df.drop(['year', 'month','day', 'hour'], axis = 1)\n",
    "\n",
    "data_df = data_df[['datetime', 'DEWP', 'TEMP', 'PRES', 'cbwd', 'Iws', 'Is', 'Ir', 'pm2.5']].iloc[24:].reset_index().drop('No', axis = 1)\n",
    "data_df[['pm2.5']] = data_df[['pm2.5']].interpolate(method='linear')"
   ]
  },
  {
   "cell_type": "code",
   "execution_count": 4,
   "id": "0432108b",
   "metadata": {},
   "outputs": [
    {
     "data": {
      "text/plain": [
       "datetime    0\n",
       "DEWP        0\n",
       "TEMP        0\n",
       "PRES        0\n",
       "cbwd        0\n",
       "Iws         0\n",
       "Is          0\n",
       "Ir          0\n",
       "pm2.5       0\n",
       "dtype: int64"
      ]
     },
     "execution_count": 4,
     "metadata": {},
     "output_type": "execute_result"
    }
   ],
   "source": [
    "data_df.isnull().sum()"
   ]
  },
  {
   "cell_type": "code",
   "execution_count": 5,
   "id": "0405e1fb",
   "metadata": {},
   "outputs": [
    {
     "data": {
      "text/plain": [
       "43800"
      ]
     },
     "execution_count": 5,
     "metadata": {},
     "output_type": "execute_result"
    }
   ],
   "source": [
    "len(data_df)"
   ]
  },
  {
   "cell_type": "code",
   "execution_count": 6,
   "id": "62aa46dd",
   "metadata": {},
   "outputs": [
    {
     "data": {
      "image/png": "[encoded data removed]",
      "text/plain": [
       "<Figure size 864x576 with 1 Axes>"
      ]
     },
     "metadata": {
      "needs_background": "light"
     },
     "output_type": "display_data"
    }
   ],
   "source": [
    "ax = data_df['pm2.5'].plot.hist(bins = 200, figsize = (12,8))"
   ]
  },
  {
   "cell_type": "code",
   "execution_count": 7,
   "id": "f956686f",
   "metadata": {},
   "outputs": [
    {
     "data": {
      "image/png": "[encoded data removed]",
      "text/plain": [
       "<Figure size 864x576 with 1 Axes>"
      ]
     },
     "metadata": {
      "needs_background": "light"
     },
     "output_type": "display_data"
    }
   ],
   "source": [
    "ax = data_df.plot(x = 'datetime', y = 'pm2.5', figsize = (12,8))"
   ]
  },
  {
   "cell_type": "code",
   "execution_count": 8,
   "id": "73ad0d1b",
   "metadata": {},
   "outputs": [
    {
     "data": {
      "text/plain": [
       "pm2.5    98.244966\n",
       "dtype: float64"
      ]
     },
     "execution_count": 8,
     "metadata": {},
     "output_type": "execute_result"
    }
   ],
   "source": [
    "data_df[['pm2.5']].mean()"
   ]
  },
  {
   "cell_type": "code",
   "execution_count": 9,
   "id": "7c4546d4",
   "metadata": {},
   "outputs": [],
   "source": [
    "from sklearn.model_selection import train_test_split\n",
    "\n",
    "data_df = data_df.set_index('datetime')\n",
    "X_train, X_test, y_train, y_test = train_test_split(data_df[['DEWP', 'TEMP', 'PRES', 'Iws', 'Is', 'Ir']], data_df[['pm2.5']], test_size=0.2)"
   ]
  },
  {
   "cell_type": "code",
   "execution_count": 10,
   "id": "fade5575",
   "metadata": {},
   "outputs": [
    {
     "name": "stdout",
     "output_type": "stream",
     "text": [
      "                                 OLS Regression Results                                \n",
      "=======================================================================================\n",
      "Dep. Variable:                      y   R-squared (uncentered):                   0.640\n",
      "Model:                            OLS   Adj. R-squared (uncentered):              0.640\n",
      "Method:                 Least Squares   F-statistic:                          1.037e+04\n",
      "Date:                Tue, 03 May 2022   Prob (F-statistic):                        0.00\n",
      "Time:                        11:21:54   Log-Likelihood:                     -2.0349e+05\n",
      "No. Observations:               35040   AIC:                                  4.070e+05\n",
      "Df Residuals:                   35034   BIC:                                  4.070e+05\n",
      "Df Model:                           6                                                  \n",
      "Covariance Type:            nonrobust                                                  \n",
      "==============================================================================\n",
      "                 coef    std err          t      P>|t|      [0.025      0.975]\n",
      "------------------------------------------------------------------------------\n",
      "x1             4.5144      0.056     80.180      0.000       4.404       4.625\n",
      "x2            -5.1201      0.064    -80.362      0.000      -5.245      -4.995\n",
      "x3             0.1589      0.001    192.205      0.000       0.157       0.161\n",
      "x4            -0.2648      0.009    -28.602      0.000      -0.283      -0.247\n",
      "x5            -1.9525      0.568     -3.440      0.001      -3.065      -0.840\n",
      "x6            -6.7609      0.304    -22.224      0.000      -7.357      -6.165\n",
      "==============================================================================\n",
      "Omnibus:                    12628.664   Durbin-Watson:                   1.990\n",
      "Prob(Omnibus):                  0.000   Jarque-Bera (JB):            61025.742\n",
      "Skew:                           1.694   Prob(JB):                         0.00\n",
      "Kurtosis:                       8.506   Cond. No.                     1.34e+03\n",
      "==============================================================================\n",
      "\n",
      "Notes:\n",
      "[1] R² is computed without centering (uncentered) since the model does not contain a constant.\n",
      "[2] Standard Errors assume that the covariance matrix of the errors is correctly specified.\n",
      "[3] The condition number is large, 1.34e+03. This might indicate that there are\n",
      "strong multicollinearity or other numerical problems.\n"
     ]
    }
   ],
   "source": [
    "import statsmodels.api as sm\n",
    "import numpy as np\n",
    "\n",
    "model = sm.OLS(np.asarray(y_train), np.asarray(X_train))\n",
    "results = model.fit()\n",
    "print(results.summary())"
   ]
  },
  {
   "cell_type": "code",
   "execution_count": 11,
   "id": "7ff198c7",
   "metadata": {},
   "outputs": [
    {
     "name": "stdout",
     "output_type": "stream",
     "text": [
      "79.56122714746543\n"
     ]
    }
   ],
   "source": [
    "from sklearn.metrics import mean_squared_error\n",
    "\n",
    "y_pred = results.predict(np.asarray(X_test))\n",
    "mse = mean_squared_error(np.asarray(y_test), y_pred)\n",
    "rmse = mse**0.5\n",
    "print(rmse)"
   ]
  },
  {
   "cell_type": "code",
   "execution_count": 27,
   "id": "7429d668",
   "metadata": {},
   "outputs": [],
   "source": [
    "data_df = data_df.reset_index()\n",
    "six_df = pd.DataFrame()\n",
    "twelve_df = pd.DataFrame()\n",
    "tf_df = pd.DataFrame()\n",
    "for i in range(len(data_df)):\n",
    "    six_df = pd.concat([six_df,pd.DataFrame({'6hr_avg':[sum(data_df['pm2.5'].iloc[i:i+6])/6]}, index = [i+6])])\n",
    "    twelve_df = pd.concat([twelve_df,pd.DataFrame({'12hr_avg':[sum(data_df['pm2.5'].iloc[i:i+12])/12]}, index = [i+12])])\n",
    "    tf_df = pd.concat([tf_df,pd.DataFrame({'24hr_avg':[sum(data_df['pm2.5'].iloc[i:i+24])/24]}, index = [i+24])])\n",
    "    \n",
    "data_df = pd.merge(data_df, six_df, left_index=True, right_index=True)\n",
    "data_df = pd.merge(data_df, twelve_df, left_index=True, right_index=True)\n",
    "data_df = pd.merge(data_df, tf_df, left_index=True, right_index=True)\n",
    "\n",
    "data_df = pd.merge(data_df,pd.get_dummies(data_df['cbwd']), left_index=True, right_index=True)"
   ]
  },
  {
   "cell_type": "code",
   "execution_count": 13,
   "id": "ff6c02c7",
   "metadata": {},
   "outputs": [
    {
     "name": "stdout",
     "output_type": "stream",
     "text": [
      "                                 OLS Regression Results                                \n",
      "=======================================================================================\n",
      "Dep. Variable:                      y   R-squared (uncentered):                   0.920\n",
      "Model:                            OLS   Adj. R-squared (uncentered):              0.920\n",
      "Method:                 Least Squares   F-statistic:                          3.337e+04\n",
      "Date:                Tue, 03 May 2022   Prob (F-statistic):                        0.00\n",
      "Time:                        11:25:25   Log-Likelihood:                     -1.7674e+05\n",
      "No. Observations:               35020   AIC:                                  3.535e+05\n",
      "Df Residuals:                   35008   BIC:                                  3.536e+05\n",
      "Df Model:                          12                                                  \n",
      "Covariance Type:            nonrobust                                                  \n",
      "==============================================================================\n",
      "                 coef    std err          t      P>|t|      [0.025      0.975]\n",
      "------------------------------------------------------------------------------\n",
      "x1             0.7203      0.029     25.212      0.000       0.664       0.776\n",
      "x2            -1.0125      0.033    -30.974      0.000      -1.077      -0.948\n",
      "x3             0.0309      0.001     47.049      0.000       0.030       0.032\n",
      "x4             0.0035      0.005      0.758      0.448      -0.005       0.012\n",
      "x5            -1.0905      0.277     -3.936      0.000      -1.633      -0.547\n",
      "x6            -1.6893      0.142    -11.864      0.000      -1.968      -1.410\n",
      "x7             1.3049      0.009    151.930      0.000       1.288       1.322\n",
      "x8            -0.6299      0.013    -50.178      0.000      -0.654      -0.605\n",
      "x9             0.1993      0.007     26.662      0.000       0.185       0.214\n",
      "x10          -10.8762      0.746    -14.579      0.000     -12.338      -9.414\n",
      "x11          -19.8259      0.609    -32.535      0.000     -21.020     -18.632\n",
      "x12            0.1201      0.567      0.212      0.832      -0.992       1.232\n",
      "==============================================================================\n",
      "Omnibus:                     8305.708   Durbin-Watson:                   2.008\n",
      "Prob(Omnibus):                  0.000   Jarque-Bera (JB):           516371.828\n",
      "Skew:                           0.039   Prob(JB):                         0.00\n",
      "Kurtosis:                      21.812   Cond. No.                     4.67e+03\n",
      "==============================================================================\n",
      "\n",
      "Notes:\n",
      "[1] R² is computed without centering (uncentered) since the model does not contain a constant.\n",
      "[2] Standard Errors assume that the covariance matrix of the errors is correctly specified.\n",
      "[3] The condition number is large, 4.67e+03. This might indicate that there are\n",
      "strong multicollinearity or other numerical problems.\n"
     ]
    }
   ],
   "source": [
    "X_train, X_test, y_train, y_test = train_test_split(data_df[['DEWP', 'TEMP', 'PRES', 'Iws', 'Is', 'Ir','6hr_avg', '12hr_avg', '24hr_avg','NE','NW','SE']], data_df[['pm2.5']], test_size=0.2)\n",
    "\n",
    "model = sm.OLS(np.asarray(y_train), np.asarray(X_train))\n",
    "results = model.fit()\n",
    "print(results.summary())"
   ]
  },
  {
   "cell_type": "code",
   "execution_count": 14,
   "id": "e265fa08",
   "metadata": {},
   "outputs": [
    {
     "name": "stdout",
     "output_type": "stream",
     "text": [
      "39.76839813123864\n"
     ]
    }
   ],
   "source": [
    "y_pred = results.predict(np.asarray(X_test))\n",
    "\n",
    "mse = mean_squared_error(np.asarray(y_test), y_pred)\n",
    "rmse = mse**0.5\n",
    "print(rmse)"
   ]
  },
  {
   "cell_type": "code",
   "execution_count": 16,
   "id": "b9fbde97",
   "metadata": {},
   "outputs": [],
   "source": [
    "\n",
    "from sklearn import tree"
   ]
  },
  {
   "cell_type": "code",
   "execution_count": 17,
   "id": "788998be",
   "metadata": {},
   "outputs": [],
   "source": [
    "data_df = data_df.reset_index()\n",
    "X_train, X_test, y_train, y_test = train_test_split(data_df[['DEWP', 'TEMP', 'PRES', 'Iws', 'Is', 'Ir','6hr_avg', '12hr_avg', '24hr_avg','NE','NW','SE']], data_df[['pm2.5']], test_size=0.2)"
   ]
  },
  {
   "cell_type": "code",
   "execution_count": 18,
   "id": "b2e50a01",
   "metadata": {},
   "outputs": [],
   "source": [
    "clf = tree.DecisionTreeRegressor()\n",
    "clf = clf.fit(np.asarray(X_train), np.asarray(y_train))"
   ]
  },
  {
   "cell_type": "code",
   "execution_count": 19,
   "id": "baed03a7",
   "metadata": {},
   "outputs": [],
   "source": [
    "y_pred = clf.predict(np.asarray(X_test))\n"
   ]
  },
  {
   "cell_type": "code",
   "execution_count": 20,
   "id": "d05d49dc",
   "metadata": {},
   "outputs": [
    {
     "name": "stdout",
     "output_type": "stream",
     "text": [
      "49.114064812585504\n"
     ]
    }
   ],
   "source": [
    "mse = mean_squared_error(np.asarray(y_test), y_pred)\n",
    "rmse = mse**0.5\n",
    "print(rmse)"
   ]
  },
  {
   "cell_type": "code",
   "execution_count": 21,
   "id": "e713b2f8",
   "metadata": {},
   "outputs": [],
   "source": [
    "import xgboost as xgb\n",
    "from sklearn.metrics import accuracy_score\n",
    "\n",
    "dtest = xgb.DMatrix(X_test, y_test, feature_names=X_test.columns)\n",
    "dtrain = xgb.DMatrix(X_train, y_train,feature_names=X_train.columns)\n",
    "\n",
    "param = {'verbosity':1, \n",
    "         'objective':'reg:squarederror',     ####'reg:squarederror', \n",
    "         'booster':'gblinear',\n",
    "         'eval_metric' :'rmse',\n",
    "         'feature_selector': 'cyclic',\n",
    "         'learning_rate': 1}\n",
    "\n",
    "evallist = [(dtrain, 'train')]"
   ]
  },
  {
   "cell_type": "code",
   "execution_count": 22,
   "id": "42f19663",
   "metadata": {},
   "outputs": [
    {
     "name": "stdout",
     "output_type": "stream",
     "text": [
      "[0]\ttrain-rmse:52.82262\n"
     ]
    },
    {
     "name": "stderr",
     "output_type": "stream",
     "text": [
      "C:\\Users\\karishma\\anaconda3\\lib\\site-packages\\xgboost\\core.py:525: FutureWarning: Pass `evals` as keyword args.  Passing these as positional arguments will be considered as error in future releases.\n",
      "  warnings.warn(\n"
     ]
    },
    {
     "name": "stdout",
     "output_type": "stream",
     "text": [
      "[1]\ttrain-rmse:48.30743\n",
      "[2]\ttrain-rmse:43.68695\n",
      "[3]\ttrain-rmse:42.56760\n",
      "[4]\ttrain-rmse:41.47118\n",
      "[5]\ttrain-rmse:40.84749\n",
      "[6]\ttrain-rmse:40.35245\n",
      "[7]\ttrain-rmse:40.02159\n",
      "[8]\ttrain-rmse:39.72600\n",
      "[9]\ttrain-rmse:39.47814\n",
      "[10]\ttrain-rmse:39.27433\n",
      "[11]\ttrain-rmse:39.08336\n",
      "[12]\ttrain-rmse:38.91499\n",
      "[13]\ttrain-rmse:38.77191\n",
      "[14]\ttrain-rmse:38.65335\n",
      "[15]\ttrain-rmse:38.55502\n",
      "[16]\ttrain-rmse:38.46540\n",
      "[17]\ttrain-rmse:38.38469\n",
      "[18]\ttrain-rmse:38.32457\n",
      "[19]\ttrain-rmse:38.26603\n"
     ]
    }
   ],
   "source": [
    "num_round = 20\n",
    "bst = xgb.train(param, dtrain, num_round, evallist)"
   ]
  },
  {
   "cell_type": "code",
   "execution_count": 23,
   "id": "58aac77b",
   "metadata": {},
   "outputs": [],
   "source": [
    "import xgboost as xgb\n",
    "\n",
    "dtest = xgb.DMatrix(X_test, y_test, feature_names=X_test.columns)\n",
    "dtrain = xgb.DMatrix(X_train, y_train,feature_names=X_train.columns)\n",
    "\n",
    "param = {'verbosity':1, \n",
    "         'objective':'reg:squarederror',\n",
    "         'booster':'gblinear',\n",
    "         \n",
    "         'eval_metric' :'rmse',\n",
    "         'learning_rate': 1}\n",
    "\n",
    "evallist = [(dtrain, 'train')]"
   ]
  },
  {
   "cell_type": "code",
   "execution_count": 24,
   "id": "aeabc046",
   "metadata": {},
   "outputs": [
    {
     "name": "stdout",
     "output_type": "stream",
     "text": [
      "[0]\ttrain-rmse:59.44810\n",
      "[1]\ttrain-rmse:48.20057\n",
      "[2]\ttrain-rmse:44.95117\n",
      "[3]\ttrain-rmse:41.38856\n",
      "[4]\ttrain-rmse:40.27433\n",
      "[5]\ttrain-rmse:39.80003\n",
      "[6]\ttrain-rmse:39.50521\n",
      "[7]\ttrain-rmse:39.30353\n",
      "[8]\ttrain-rmse:39.17040\n",
      "[9]\ttrain-rmse:39.04106\n",
      "[10]\ttrain-rmse:38.87998\n",
      "[11]\ttrain-rmse:38.74482\n",
      "[12]\ttrain-rmse:38.66736\n",
      "[13]\ttrain-rmse:38.58315\n",
      "[14]\ttrain-rmse:38.51255\n",
      "[15]\ttrain-rmse:38.45742\n",
      "[16]\ttrain-rmse:38.41265\n",
      "[17]\ttrain-rmse:38.37699\n",
      "[18]\ttrain-rmse:38.33350\n",
      "[19]\ttrain-rmse:38.29580\n"
     ]
    }
   ],
   "source": [
    "num_round = 20\n",
    "bst = xgb.train(param, dtrain, num_round, evallist)"
   ]
  },
  {
   "cell_type": "code",
   "execution_count": 25,
   "id": "6e68e620",
   "metadata": {},
   "outputs": [],
   "source": [
    "y_pred = bst.predict(dtest)"
   ]
  },
  {
   "cell_type": "code",
   "execution_count": 26,
   "id": "a24b97e5",
   "metadata": {},
   "outputs": [
    {
     "name": "stdout",
     "output_type": "stream",
     "text": [
      "40.435577340525285\n"
     ]
    }
   ],
   "source": [
    "mse = mean_squared_error(np.asarray(y_test), y_pred)\n",
    "rmse = mse**0.5\n",
    "print(rmse)"
   ]
  },
  {
   "cell_type": "code",
   "execution_count": null,
   "id": "b49ec725",
   "metadata": {},
   "outputs": [],
   "source": []
  }
 ],
 "metadata": {
  "kernelspec": {
   "display_name": "Python 3 (ipykernel)",
   "language": "python",
   "name": "python3"
  },
  "language_info": {
   "codemirror_mode": {
    "name": "ipython",
    "version": 3
   },
   "file_extension": ".py",
   "mimetype": "text/x-python",
   "name": "python",
   "nbconvert_exporter": "python",
   "pygments_lexer": "ipython3",
   "version": "3.9.7"
  }
 },
 "nbformat": 4,
 "nbformat_minor": 5
}
